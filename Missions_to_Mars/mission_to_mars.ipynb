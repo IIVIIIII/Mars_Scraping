{
 "cells": [
  {
   "cell_type": "code",
   "execution_count": 1,
   "metadata": {},
   "outputs": [],
   "source": [
    "import pandas as pd\n",
    "from splinter import Browser\n",
    "from bs4 import BeautifulSoup as bs\n",
    "import requests\n",
    "from webdriver_manager.chrome import ChromeDriverManager"
   ]
  },
  {
   "cell_type": "code",
   "execution_count": 2,
   "metadata": {},
   "outputs": [],
   "source": [
    "# Try to scrape the site using the URL\n",
    "url = 'https://mars.nasa.gov/news/?page=0&per_page=40&order=publish_date+desc%2Ccreated_at+desc&search=&category=19%2C165%2C184%2C204&blank_scope=Latest'\n",
    "\n",
    "# Retrieve page with the requests module\n",
    "html = requests.get(url)\n",
    "\n",
    "# Create BeautifulSoup object; parse with 'html.parser'\n",
    "soup = bs(html.text, 'html.parser')\n",
    "\n",
    "# Get article title and summary paragraph\n",
    "news_H = soup.find_all('div', class_='content_title')[0].a.text.replace(\"\\n\", \"\")\n",
    "news_P = soup.find_all('div', class_='rollover_description_inner')[0].text.replace(\"\\n\", \"\")\n"
   ]
  },
  {
   "cell_type": "code",
   "execution_count": 3,
   "metadata": {},
   "outputs": [
    {
     "name": "stderr",
     "output_type": "stream",
     "text": [
      "[WDM] - ====== WebDriver manager ======\n",
      "[WDM] - Current google-chrome version is 89.0.4389\n",
      "[WDM] - Get LATEST driver version for 89.0.4389\n",
      "[WDM] - Driver [/Users/kelvinwalls/.wdm/drivers/chromedriver/mac64/89.0.4389.23/chromedriver] found in cache\n"
     ]
    },
    {
     "name": "stdout",
     "output_type": "stream",
     "text": [
      "\n",
      "\n"
     ]
    }
   ],
   "source": [
    "# Setup splinter\n",
    "executable_path = {'executable_path': ChromeDriverManager().install()}\n",
    "browser = Browser('chrome', **executable_path, headless=False)\n",
    "\n",
    "url = 'https://data-class-jpl-space.s3.amazonaws.com/JPL_Space/index.html'\n",
    "browser.visit(url)\n",
    "\n",
    "# Jump to image link and setup soup\n",
    "browser.links.find_by_partial_text('FULL IMAGE').click()\n",
    "html = browser.html\n",
    "soup = bs(html, 'html.parser')\n",
    "\n",
    "# Get featured image url\n",
    "featured_image_url = url.replace('index.html', soup.find_all('img')[1]['src'])\n",
    "\n",
    "# quit the browser\n",
    "browser.quit()\n"
   ]
  },
  {
   "cell_type": "code",
   "execution_count": 4,
   "metadata": {},
   "outputs": [],
   "source": [
    "# Try to scrape the site using the URL\n",
    "url = 'https://space-facts.com/mars/'\n",
    "\n",
    "# Retrieve page with the requests module\n",
    "html = requests.get(url)\n",
    "\n",
    "# Create BeautifulSoup object; parse with 'html.parser'\n",
    "soup = bs(html.text, 'html.parser')\n",
    "\n",
    "# Get Mars descriptions\n",
    "col1 = soup.find_all('td', class_='column-1')\n",
    "col2 = soup.find_all('td', class_='column-2')\n",
    "props = []\n",
    "stats = []\n",
    "\n",
    "# Put descriptions in a dataframe\n",
    "for x in range(0, len(col1)):\n",
    "    props.append(col1[x].text)\n",
    "    stats.append(col2[x].text)\n",
    "    \n",
    "fax_table = pd.DataFrame({\"Description\": props, \"Mars\": stats}).set_index('Description').to_html()\n"
   ]
  },
  {
   "cell_type": "code",
   "execution_count": 6,
   "metadata": {},
   "outputs": [
    {
     "name": "stderr",
     "output_type": "stream",
     "text": [
      "[WDM] - ====== WebDriver manager ======\n",
      "[WDM] - Current google-chrome version is 89.0.4389\n",
      "[WDM] - Get LATEST driver version for 89.0.4389\n",
      "[WDM] - Driver [/Users/kelvinwalls/.wdm/drivers/chromedriver/mac64/89.0.4389.23/chromedriver] found in cache\n"
     ]
    },
    {
     "name": "stdout",
     "output_type": "stream",
     "text": [
      "\n",
      "\n",
      "1 Cerberus Hemisphere Enhanced\n",
      "2 Schiaparelli Hemisphere Enhanced\n",
      "1 Syrtis Major Hemisphere Enhanced\n",
      "1 Valles Marineris Hemisphere Enhanced\n"
     ]
    }
   ],
   "source": [
    "# Setup splinter\n",
    "executable_path = {'executable_path': ChromeDriverManager().install()}\n",
    "browser = Browser('chrome', **executable_path, headless=False)\n",
    "\n",
    "url = 'https://astrogeology.usgs.gov/search/results?q=hemisphere+enhanced&k1=target&v1=Mars'\n",
    "browser.visit(url)\n",
    "\n",
    "html = browser.html\n",
    "soup = bs(html, 'html.parser')\n",
    "\n",
    "# Get pages to jump to and set arrays to fill\n",
    "jumps = []\n",
    "titles = []\n",
    "img_urls = []\n",
    "hemisphere_urls = []\n",
    "\n",
    "that = soup.find_all('h3')\n",
    "\n",
    "for this in that:\n",
    "    jumps.append(this.text)\n",
    "    \n",
    "# Jump through pages and get image titles and urls\n",
    "for jump in jumps:\n",
    "    try:\n",
    "        browser.links.find_by_partial_text(jump).click()\n",
    "        html = browser.html\n",
    "        soup = bs(html, 'html.parser')\n",
    "        titles.append(soup.find_all('h2')[0].text.replace(\" Enhanced\", \"\"))\n",
    "        img_urls.append(soup.find_all('a')[4]['href'])\n",
    "        print(\"1 \" + jump)\n",
    "    except:\n",
    "        try:\n",
    "            browser.links.find_by_partial_text('2').click()\n",
    "            browser.links.find_by_partial_text(jump).click()\n",
    "            html = browser.html\n",
    "            soup = bs(html, 'html.parser')\n",
    "            titles.append(soup.find_all('h2')[0].text.replace(\" Enhanced\", \"\"))\n",
    "            img_urls.append(soup.find_all('a')[4]['href'])\n",
    "            print(\"2 \" + jump)\n",
    "        except:\n",
    "            browser.links.find_by_partial_text('1').click()\n",
    "            browser.links.find_by_partial_text(jump).click()\n",
    "            html = browser.html\n",
    "            soup = bs(html, 'html.parser')\n",
    "            titles.append(soup.find_all('h2')[0].text.replace(\" Enhanced\", \"\"))\n",
    "            img_urls.append(soup.find_all('a')[4]['href'])\n",
    "            print(\"1 \" + jump)\n",
    "\n",
    "# Quit the browser\n",
    "browser.quit()\n",
    "\n",
    "# Set results to list of dictionaries\n",
    "for x in range(0, len(img_urls)):\n",
    "    hemisphere_urls.append({\"title\": titles[x], \"img_url\": img_urls[x]})\n"
   ]
  },
  {
   "cell_type": "code",
   "execution_count": 7,
   "metadata": {},
   "outputs": [],
   "source": [
    "mars = {\"news_H\": news_H,\n",
    "        \"news_P\": news_P,\n",
    "        \"featured_image_url\": featured_image_url,\n",
    "        \"fax_table\": fax_table,\n",
    "        \"hemisphere_urls\": hemisphere_urls}\n"
   ]
  },
  {
   "cell_type": "code",
   "execution_count": null,
   "metadata": {},
   "outputs": [],
   "source": []
  }
 ],
 "metadata": {
  "kernelspec": {
   "display_name": "Python 3",
   "language": "python",
   "name": "python3"
  },
  "language_info": {
   "codemirror_mode": {
    "name": "ipython",
    "version": 3
   },
   "file_extension": ".py",
   "mimetype": "text/x-python",
   "name": "python",
   "nbconvert_exporter": "python",
   "pygments_lexer": "ipython3",
   "version": "3.8.5"
  }
 },
 "nbformat": 4,
 "nbformat_minor": 2
}
